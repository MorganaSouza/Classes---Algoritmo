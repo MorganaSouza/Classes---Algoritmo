{
 "cells": [
  {
   "cell_type": "code",
   "execution_count": 19,
   "metadata": {},
   "outputs": [],
   "source": [
    "#CLASS ANIMAL\n",
    "\n",
    "class Animal(): #É o objeto\n",
    "    #Construtor da classe\n",
    "    def __init__(self, name, weight, color): #Parâmetros = o que está no parêntese. Instância= trazer algo\n",
    "        #atributos (características)\n",
    "        self.nome = name #Self é um construtor\n",
    "        self.peso = weight\n",
    "        self.corDoPelo = color \n",
    "        \n",
    "    def imprimirDados(self): \n",
    "            return(\"Nome: %s \\npeso: %s\" %(self.nome, self.peso))\n",
    "        \n",
    "    def latir(self, barulho): #métodos, como se fosse função.\n",
    "            print(barulho)"
   ]
  },
  {
   "cell_type": "code",
   "execution_count": 20,
   "metadata": {},
   "outputs": [
    {
     "name": "stdout",
     "output_type": "stream",
     "text": [
      "Nome: Marlene \n",
      "peso: 7.9\n",
      "Au, Au!\n",
      "Nome: Cibele \n",
      "peso: 4.5\n",
      "Miau!\n"
     ]
    }
   ],
   "source": [
    "#Instanciando um objeto cachorro\n",
    "caozinho = Animal(\"Marlene\", 7.9, \"Caramelo\")\n",
    "gato = Animal(\"Cibele\", 4.5, \"Cinza\")\n",
    "\n",
    "\n",
    "#Chamando o método do objeto criado\n",
    "print(caozinho.imprimirDados())\n",
    "caozinho.latir(\"Au, Au!\")\n",
    "\n",
    "print(gato.imprimirDados())\n",
    "gato.latir(\"Miau!\")"
   ]
  },
  {
   "cell_type": "markdown",
   "metadata": {},
   "source": [
    "Este método vai inicializar cada obejto criado a partir desta classe\n",
    "O nome deste método é __init__\n",
    "(self) é uma referência a cada atributo de um objeto criado a partir desta\n",
    "def __init__(self):\n",
    "\n",
    "#Atributos de cada objeto criado a partir desta classe.\n",
    "# o self indica que estes são atributos dos obejtos\n",
    "\n",
    "Métodos são funços, que recebe como paramêtro atributos do objeto criado\n",
    "\n",
    "%s reservar string (retorna uma variante)\n",
    "%d marcador de posição (reservar valores em um vetor)\n",
    "        "
   ]
  },
  {
   "cell_type": "code",
   "execution_count": 21,
   "metadata": {},
   "outputs": [],
   "source": [
    "#Criando uma classe chamada livro\n",
    "class Livro():\n",
    "    def __init__(self):\n",
    "        self.titulo = \"O Monge e o Executivo\"\n",
    "        self.isbn = 9988888\n",
    "        print(\"Construtor chamado para criar um obejto desta classe\")\n",
    "        \n",
    "    def imprime(self): print(\"Foi criado o livro %s e ISBN %d\" %(self.titulo, self.isbn))"
   ]
  },
  {
   "cell_type": "code",
   "execution_count": 22,
   "metadata": {},
   "outputs": [
    {
     "name": "stdout",
     "output_type": "stream",
     "text": [
      "Construtor chamado para criar um obejto desta classe\n"
     ]
    }
   ],
   "source": [
    "#Criando uma Instancia da classe Livro\n",
    "\n",
    "Livro1 = Livro()\n"
   ]
  },
  {
   "cell_type": "code",
   "execution_count": 23,
   "metadata": {},
   "outputs": [
    {
     "data": {
      "text/plain": [
       "__main__.Livro"
      ]
     },
     "execution_count": 23,
     "metadata": {},
     "output_type": "execute_result"
    }
   ],
   "source": [
    "#Tipo do objeto Livro1\n",
    "type(Livro1)"
   ]
  },
  {
   "cell_type": "code",
   "execution_count": 25,
   "metadata": {},
   "outputs": [],
   "source": [
    "#Criando a classe Livro com parâmetros no método construtor\n",
    "class Livro():\n",
    "    def __init__(self, titulo, isbn):\n",
    "        self.titulo = titulo\n",
    "        self.isbn = isbn\n",
    "        print(\"Construtor chamado para criar um objeto desta classe\")\n",
    "        \n",
    "        \n",
    "    def imprime(self, titulo, isbn):\n",
    "        print(\"Este é o livro %s e ISBN %d\" %(titulo, isbn))"
   ]
  },
  {
   "cell_type": "code",
   "execution_count": 26,
   "metadata": {},
   "outputs": [
    {
     "name": "stdout",
     "output_type": "stream",
     "text": [
      "Construtor chamado para criar um objeto desta classe\n"
     ]
    }
   ],
   "source": [
    "#Criando o objeto Livro2 que é uma instância da classe Livro\n",
    "Livro2 = Livro(\"A menina que roubava livros\", 77886611)"
   ]
  },
  {
   "cell_type": "code",
   "execution_count": 27,
   "metadata": {},
   "outputs": [
    {
     "data": {
      "text/plain": [
       "'A menina que roubava livros'"
      ]
     },
     "execution_count": 27,
     "metadata": {},
     "output_type": "execute_result"
    }
   ],
   "source": [
    "Livro2.titulo"
   ]
  },
  {
   "cell_type": "code",
   "execution_count": 54,
   "metadata": {},
   "outputs": [],
   "source": [
    "#criando classe do meu cachorro max\n",
    "\n",
    "class Animal(): #É o objeto\n",
    "    #Construtor da classe\n",
    "    def __init__(self, name, weight, color, raça): #Parâmetros = o que está no parêntese. Instância= trazer algo\n",
    "        #atributos (características)\n",
    "        self.nome = name #Self é um construtor\n",
    "        self.peso = weight\n",
    "        self.corDoPelo = color \n",
    "        self.raça = raça\n",
    "        \n",
    "    def imprimirDados(self): \n",
    "            return(\"Nome: %s \\nPeso: %s \\nCor do pelo: %s \\nRaça: %s\" %(self.nome, self.peso, self.corDoPelo, self.raça))\n",
    "        \n",
    "    def latir(self, barulho): #métodos, como se fosse função.\n",
    "            print(barulho)"
   ]
  },
  {
   "cell_type": "code",
   "execution_count": 56,
   "metadata": {},
   "outputs": [
    {
     "name": "stdout",
     "output_type": "stream",
     "text": [
      "Nome: Max \n",
      "Peso: 9.5 \n",
      "Cor do pelo: preto, caramelo e branco \n",
      "Raça: Fox Paulistinha\n",
      "Au, Au!\n"
     ]
    }
   ],
   "source": [
    "#Instanciando um objeto cachorro\n",
    "caozinho = Animal(\"Max\", 9.5, \"preto, caramelo e branco\", \"Fox Paulistinha\")\n",
    "\n",
    "\n",
    "\n",
    "#Chamando o método do objeto criado\n",
    "print(caozinho.imprimirDados())\n",
    "caozinho.latir(\"Au, Au!\")\n"
   ]
  }
 ],
 "metadata": {
  "kernelspec": {
   "display_name": "Python 3",
   "language": "python",
   "name": "python3"
  },
  "language_info": {
   "codemirror_mode": {
    "name": "ipython",
    "version": 3
   },
   "file_extension": ".py",
   "mimetype": "text/x-python",
   "name": "python",
   "nbconvert_exporter": "python",
   "pygments_lexer": "ipython3",
   "version": "3.11.4"
  }
 },
 "nbformat": 4,
 "nbformat_minor": 2
}
